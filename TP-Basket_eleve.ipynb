{
 "cells": [
  {
   "cell_type": "markdown",
   "id": "89453b0e",
   "metadata": {},
   "source": [
    "<h1><center>Cue3, le robot plus fort que les champions de basket</center></h1>\n",
    "<img src=\"https://media.giphy.com/media/bxt40W1QkBh0DQp3em/giphy.gif\" \n",
    "     width=\"500\"\n",
    "     height=\"500\"\n",
    "     style=\"float:left;margin:10px\">\n",
    "\n",
    "**Cue3** est un robot basketteur construit par l'entreprise japonaise **Toyota**. En 2018, Cue3 est entré dans le Guinness Book des records en réussissant à enchainer 2020 paniers d'affilée. (voir vidéo du premier panier à gauche) <br>\n",
    "<br>\n",
    "\n",
    "\n",
    "<h2><center>Problématique: Comment les ingénieurs de Toyota réussissent-ils à programmer le robot pour prévoir la trajectoire du ballon ?</center></h2>\n",
    "<br>\n",
    "<br>\n",
    "<br>\n",
    "<br>\n",
    "<b>Données </b>:<br>\n",
    "-La masse du ballon de basket vaut 600 g.<br>\n",
    "-La durée séparant 2 images successives de la vidéo vaut 40 ms<br>\n",
    "-L'intensité de pesanteur sur Terre vaut $g = 9,81~ N\\cdot kg^{-1}$.<br>"
   ]
  },
  {
   "cell_type": "markdown",
   "id": "ea4ee4e3",
   "metadata": {},
   "source": [
    "<h2> PARTIE 1 : Position initiale, vitesse initiale et force résultante </h2>\n",
    "<br>\n",
    "\n",
    "<b>Travail 1 :</b> Complète le code ci-dessous lorsqu'il est écrit \"A COMPLETER\" en bout de ligne. <br>"
   ]
  },
  {
   "cell_type": "code",
   "execution_count": null,
   "id": "8aebaceb",
   "metadata": {
    "scrolled": false
   },
   "outputs": [],
   "source": [
    "## ================= SECTION 0 : IMPORTATION DES EXTENSIONS (ne pas modifier) =======================\n",
    "from vecteur import Vecteur                              #ne pas modifier        Ligne 1\n",
    "from modelisation import Modelisation                    #ne pas modifier        Ligne 2\n",
    "from fonctions import cos, sin  ,tan                     #ne pas modifier        Ligne 3\n",
    "import matplotlib.pyplot as plt                          #ne pas modifier        Ligne 4\n",
    "import cv2                                               #ne pas modifier        Ligne 5\n",
    "import numpy as np                                       #ne pas modifier        Ligne 6\n",
    "x = np.zeros((38))                                       #ne pas modifier        Ligne 7\n",
    "y = np.zeros((38))                                       #ne pas modifier        Ligne 8\n",
    "vx = np.zeros((38))                                      #ne pas modifier        Ligne 9\n",
    "vy = np.zeros((38))                                      #ne pas modifier        Ligne 10\n",
    "\n",
    "#===================SECTION 1 : POSITION INITIALE DU BALON (x[0], y[0]) =========================\n",
    "x[0]  =  ... # A COMPLETER -  Valeur de l'abscisse initiale (en m) du ballon Ligne 11\n",
    "y[0]  =  ... # A COMPLETER -  Valeur de l'ordonnée initiale (en m) du ballon Ligne 12\n",
    "\n",
    "#===================SECTION 2 : VITESSE INITIALE DU BALLON (vx[0], vy[0]) =========================\n",
    "vx[0] = ... # A COMPLETER -  Valeur de la coordonnée suivant x du vecteur vitesse (en m/s) \n",
    "            # à l'instant initial (t = 0s) (A COMPLETER)   Ligne 13\n",
    "    \n",
    "vy[0] = ... # A COMPLETER - Valeur de la coordonnée suivant y du vecteur vitesse (en m/s) \n",
    "            # à l'instant initial (t = 0s) (A COMPLETER)   Ligne 14\n",
    "    \n",
    "#===================SECTION 3 : BILAN DES FORCES EXERCEES SUR LE BALLON =========================\n",
    "m =  ...   # A COMPLETER - Valeur de la masse du ballon de basket en kg (A COMPLETER)  Ligne 15\n",
    "g =  ...   # A COMPLETER - Valeur de l'intensité de pesanteur en N/kg  (A COMPLETER)   Ligne 16\n",
    "Fx = ...   # A COMPLETER - Valeur de la coordonnée suivant x du\n",
    "           # vecteur force résultante en N (A COMPLETER)   Ligne 17\n",
    "Fy = ...   # A COMPLETER - Coordonnée suivant y du \n",
    "           # vecteur force résultante en N (A COMPLETER)   Ligne 18\n",
    "    \n",
    "#===================SECTION 4 : AFFICHAGE DES POSITIONS ET DES VITESSES  =========================\n",
    "print(\"x = \", x)    # NE PAS MODIFIER- Affichage des absisses du ballon     Ligne 19\n",
    "print(\"y = \", y)    # NE PAS MODIFIER- Affichage des ordonnées du ballon    Ligne 20\n",
    "print(\"vx = \", vx)  # NE PAS MODIFIER- Affichage des coordonnées suivant x du vecteur vitesse Ligne 21\n",
    "print(\"vy = \", vy)  # NE PAS MODIFIER- Affichage des coordonnées suivant y du vecteur vitesse Ligne 22"
   ]
  },
  {
   "cell_type": "markdown",
   "id": "44557e4b",
   "metadata": {},
   "source": [
    "<b>Travail 2 :</b> Une fois que tu as complété le code ci-dessus, exécute le.  Pour cela, il faut cliquer quelque part dans la fenêtre du code puis cliquer sur la flèche en haut de la page: \n",
    "<img src=\"https://raw.githubusercontent.com/pierreghesqui/TP-basketBasthon/main/img/fleche.png\" \n",
    "     width=\"300\"\n",
    "     height=\"300\"\n",
    "     style=\"float:left;margin:10px\">"
   ]
  },
  {
   "cell_type": "markdown",
   "id": "1e701639",
   "metadata": {},
   "source": [
    "Pour chacune des listes x, y, vx et vy, seule l'élément correspondant à l'instant initial est correct. Le reste est composé de 0 que nous allons modifier dans la partie suivane en utilisant la seconde loi de Newton."
   ]
  },
  {
   "cell_type": "markdown",
   "id": "586a69c1",
   "metadata": {},
   "source": [
    "<h2> PARTIE 2 : Prévision des positions suivantes grâce à la seconde loi de Newton </h2>"
   ]
  },
  {
   "cell_type": "markdown",
   "id": "5b26bf35",
   "metadata": {},
   "source": [
    "<b> Travail 4 :</b> Compléte le code ci-dessous pour prévoir la position suivante."
   ]
  },
  {
   "cell_type": "code",
   "execution_count": null,
   "id": "33c97e68",
   "metadata": {
    "scrolled": true
   },
   "outputs": [],
   "source": [
    "#===================== CALCUL DES POSITIONS ET VITESSES SUIVANTES GRACE A LA SECONDE LOI DE NEWTON\n",
    "modelisation = Modelisation() # NE PAS MODIFIER- Ligne 23\n",
    "deltat = 40e-3  # NE PAS MODIFIER- Durée (en seconde) entre 2 images successives Ligne 24\n",
    "\n",
    "for i in range(37): # NE PAS MODIFIER - On répète pour les 37 images de la vidéos       Ligne 25\n",
    "    \n",
    "    vx[i+1] = vx[i] + ... # A COMPLETER - Calcul de vx[i+1] grâce à la seconde loi de Newton   Ligne 26\n",
    "    vy[i+1] = vy[i] + ... # A COMPLETER - Calcul de vy[i+1] grâce à la seconde loi de Newton   Ligne 27\n",
    "    \n",
    "    x[i+1] = x[i] + ...   # A COMPLETER - Calcul de x[i+1] grâce à la seconde loi de Newton   Ligne 28                                          \n",
    "    y[i+1] = y[i] + ...   # A COMPLETER - Calcul de y[i+1] grâce à la seconde loi de Newton   Ligne 29\n",
    "\n",
    "#=================== AFFICHAGE DES POSITIONS ET DES VITESSES  =========================    \n",
    "print(\"x = \", x)   # NE PAS MODIFIER- Affichage de l'absisse du ballon     Ligne 30\n",
    "print(\"y = \", y)   # NE PAS MODIFIER- Affichage de l'ordonée du ballon     Ligne 31\n",
    "print(\"vx = \", vx) # NE PAS MODIFIER- Affichage de l'absisse du ballon     Ligne 32\n",
    "print(\"vy = \", vy) # NE PAS MODIFIER- Affichage de l'absisse du ballon     Ligne 33"
   ]
  },
  {
   "cell_type": "markdown",
   "id": "abfe3051",
   "metadata": {},
   "source": [
    "**Travail 4 :** Exécute le code ci-dessous"
   ]
  },
  {
   "cell_type": "code",
   "execution_count": null,
   "id": "31a1f08e",
   "metadata": {},
   "outputs": [],
   "source": [
    "#===================== COMPARAISON ENTRE LE MODELE THEORIQUE ET L'EXPERIENCE ==============\n",
    "anim = modelisation.montreAnimation(x,y,vx,vy,Fx,Fy) # NE PAS MODIFIER-   Ligne 34\n",
    "plt.show()                                           # NE PAS MODIFIER-   Ligne 35"
   ]
  },
  {
   "cell_type": "markdown",
   "id": "b40e2577",
   "metadata": {},
   "source": [
    "**Travail 5 :** Le modèle théorique est-il toujours fidèle à l'expérience sur l'ensemble de la trajectoire ? "
   ]
  },
  {
   "cell_type": "markdown",
   "id": "aa3e6172",
   "metadata": {},
   "source": [
    "<h2>PARTIE 3 : Prise en compte du frottement de l'air sur le ballon</h2>\n",
    "<img src=\"https://raw.githubusercontent.com/pierreghesqui/TP-basketBasthon/main/img/magnus.png\" \n",
    "     width=\"300\"\n",
    "     height=\"300\"\n",
    "     style=\"float:left;margin:10px\">\n",
    "<br>\n",
    "<br>\n",
    "On remarque que la prévision théorique est un peu éloignée de l'expérience. En effet, nous n'avons pas pris en compte les forces de frottement de l'air sur le ballon. <br> Le robot Cue3 donne un petit effet sur le ballon pour le faire entrer en rotation dans l'air(voir schéma à gauche). Cet effet a pour conséquence, de créer <u>une force supplémentaire vers le bas.</u> C'est ce qu'on appelle <b>l'effet Magnus</b>. <u>Cette nouvelle force a pour valeur 1/10e de la valeur du poids du ballon</u>. \n"
   ]
  },
  {
   "cell_type": "markdown",
   "id": "15db33bb",
   "metadata": {},
   "source": [
    "<b>Travail 6 :</b> Complète le code ci dessous en modifiant la valeur du vecteur $\\vec{F}$ pour prendre en compte les forces de frottement de l'air."
   ]
  },
  {
   "cell_type": "code",
   "execution_count": null,
   "id": "7e0d0046",
   "metadata": {},
   "outputs": [],
   "source": [
    "modelisation = Modelisation()  # NE PAS MODIFIER-   Ligne 36\n",
    "\n",
    "Fx = 0 # NE PAS MODIFIER- Valeur de la coordonée suivant x du vecteur Force\n",
    "       # en prenant en compte les frottements de l'air Ligne 37\n",
    "Fy = ... # A COMPLETER- Valeur de la coordonée suivant y du vecteur Force\n",
    "                  # en prenant en compte les frottements de l'air Ligne 38\n",
    "\n",
    "for i in range(37): # NE PAS MODIFIER- On répète pour les 38 images de la vidéos\n",
    "    \n",
    "    vx[i+1] = vx[i] + ... # A COMPLETER- Calcul de vx[i+1] grâce à la seconde loi de Newton   Ligne 39\n",
    "    vy[i+1] = vy[i] + ... # A COMPLETER- Calcul de vy[i+1] grâce à la seconde loi de Newton   Ligne 40\n",
    "    \n",
    "    x[i+1] = x[i] + ... # A COMPLETER- Calcul de x[i+1] grâce à la seconde loi de Newton   Ligne 41                                         \n",
    "    y[i+1] = y[i] + ... # A COMPLETER- Calcul de y[i+1] grâce à la seconde loi de Newton   Ligne 42 \n",
    "    \n",
    "anim = modelisation.montreAnimation(x,y,vx,vy,Fx,Fy) # NE PAS MODIFIER- construit l'animation Ligne 43\n",
    "plt.show() # NE PAS MODIFIER- affiche l'animation Ligne 44   "
   ]
  },
  {
   "cell_type": "markdown",
   "id": "cdde55b3",
   "metadata": {},
   "source": [
    "**Travail 7 :** Ce modèle prenant en compte les frottements de l'air est il plus fidèle à l'expérience ? "
   ]
  }
 ],
 "metadata": {
  "celltoolbar": "Format de la Cellule Texte Brut",
  "kernelspec": {
   "display_name": "Python 3 (ipykernel)",
   "language": "python",
   "name": "python3"
  },
  "language_info": {
   "codemirror_mode": {
    "name": "ipython",
    "version": 3
   },
   "file_extension": ".py",
   "mimetype": "text/x-python",
   "name": "python",
   "nbconvert_exporter": "python",
   "pygments_lexer": "ipython3",
   "version": "3.9.12"
  }
 },
 "nbformat": 4,
 "nbformat_minor": 5
}

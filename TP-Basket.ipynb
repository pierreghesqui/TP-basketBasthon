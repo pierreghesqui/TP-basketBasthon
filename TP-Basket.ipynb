{
 "cells": [
  {
   "cell_type": "markdown",
   "id": "89453b0e",
   "metadata": {},
   "source": [
    "<h1><center>TP : Cue3, le robot plus fort que les champions de basket</center></h1>\n",
    "<img src=\"https://media.giphy.com/media/bxt40W1QkBh0DQp3em/giphy.gif\" \n",
    "     width=\"500\"\n",
    "     height=\"500\"\n",
    "     style=\"float:left;margin:10px\">\n",
    "\n",
    "**Cue3** est un robot basketteur construit par l'entreprise japonaise **Toyota**. En 2018, Cue3 est entré dans le Guinness Book des records en réussissant à enchainer 2020 paniers d'affilée. (voir vidéo du premier panier à gauche) <br>\n",
    "<br>\n",
    "\n",
    "\n",
    "<h2><center>Problématique: Comment les ingénieurs de Toyota réussissent-ils à programmer le robot pour prévoir la trajectoire du ballon ?</center></h2>\n",
    "<br>\n",
    "<br>\n",
    "<br>\n",
    "<br>\n",
    "<b>Données </b>:<br>\n",
    "-La masse du ballon de basket vaut 600 g.<br>\n",
    "-La durée séparant 2 images successives de la vidéo vaut 40 ms<br>\n",
    "-L'intensité de pesanteur sur Terre vaut $g = 9,81~ N\\cdot kg^{-1}$.<br>"
   ]
  },
  {
   "cell_type": "markdown",
   "id": "ea4ee4e3",
   "metadata": {},
   "source": [
    "<h2> PARTIE 1 : Position initiale, vitesse initiale et force résultante </h2>\n",
    "<br>\n",
    "\n",
    "<b>Travail 1 :</b> Complète le code ci-dessous pour chaque ligne où il est écrit \"A COMPLETER\". <br>\n",
    "<b>Indices :</b> Tu trouveras des indices sur le polycopié du TP disponible [ici](https://docs.google.com/document/d/11na2icyQSVRgtP60xLjHa_It67-a33fe4w-3-2Ih86Y/edit?usp=sharing). "
   ]
  },
  {
   "cell_type": "code",
   "execution_count": 3,
   "id": "8aebaceb",
   "metadata": {
    "scrolled": false
   },
   "outputs": [
    {
     "name": "stdout",
     "output_type": "stream",
     "text": [
      "x =  [8. 0. 0. 0. 0. 0. 0. 0. 0. 0. 0. 0. 0. 0. 0. 0. 0. 0. 0. 0. 0. 0. 0. 0.\n",
      " 0. 0. 0. 0. 0. 0. 0. 0. 0. 0. 0. 0. 0. 0.]\n",
      "y =  [4. 0. 0. 0. 0. 0. 0. 0. 0. 0. 0. 0. 0. 0. 0. 0. 0. 0. 0. 0. 0. 0. 0. 0.\n",
      " 0. 0. 0. 0. 0. 0. 0. 0. 0. 0. 0. 0. 0. 0.]\n",
      "vx =  [-4.33  0.    0.    0.    0.    0.    0.    0.    0.    0.    0.    0.\n",
      "  0.    0.    0.    0.    0.    0.    0.    0.    0.    0.    0.    0.\n",
      "  0.    0.    0.    0.    0.    0.    0.    0.    0.    0.    0.    0.\n",
      "  0.    0.  ]\n",
      "vy =  [6.18 0.   0.   0.   0.   0.   0.   0.   0.   0.   0.   0.   0.   0.\n",
      " 0.   0.   0.   0.   0.   0.   0.   0.   0.   0.   0.   0.   0.   0.\n",
      " 0.   0.   0.   0.   0.   0.   0.   0.   0.   0.  ]\n"
     ]
    }
   ],
   "source": [
    "## ================= SECTION 0 : IMPORTATION DES EXTENSIONS (ne pas modifier) =======================\n",
    "from vecteur import Vecteur                              #ne pas modifier        Ligne 1\n",
    "from modelisation import Modelisation                    #ne pas modifier        Ligne 2\n",
    "from fonctions import cos, sin  ,tan                     #ne pas modifier        Ligne 3\n",
    "import matplotlib.pyplot as plt                          #ne pas modifier        Ligne 4\n",
    "import cv2                                               #ne pas modifier        Ligne 5\n",
    "import numpy as np                                       #ne pas modifier        Ligne 6\n",
    "x = np.zeros((38))                                       #ne pas modifier        Ligne 7\n",
    "y = np.zeros((38))                                       #ne pas modifier        Ligne 8\n",
    "vx = np.zeros((38))                                      #ne pas modifier        Ligne 9\n",
    "vy = np.zeros((38))                                      #ne pas modifier        Ligne 10\n",
    "\n",
    "#===================SECTION 1 : POSITION INITIALE DU BALON (x[0], y[0]) =========================\n",
    "x[0]  =  8          # A COMPLETER -  Valeur de l'abscisse initiale (en m) du ballon Ligne 11\n",
    "y[0]  =  4          # A COMPLETER -  Valeur de l'ordonnée initiale (en m) du ballon Ligne 12\n",
    "\n",
    "#===================SECTION 2 : VITESSE INITIALE DU BALLON (vx[0], vy[0]) =========================\n",
    "vx[0] =  -4.33         # A COMPLETER -  Valeur de la coordonnée suivant x du vecteur vitesse (en m/s) \n",
    "                       # à l'instant initial (t = 0s) (A COMPLETER)   Ligne 13\n",
    "vy[0] =   6.18         # A COMPLETER - Valeur de la coordonnée suivant y du vecteur vitesse (en m/s) \n",
    "                       # à l'instant initial (t = 0s) (A COMPLETER)   Ligne 14\n",
    "    \n",
    "#===================SECTION 3 : BILAN DES FORCES EXERCEES SUR LE BALLON =========================\n",
    "m = 0.600           # A COMPLETER - Valeur de la masse du ballon de basket en kg (A COMPLETER)  Ligne 15\n",
    "g = 9.81            # A COMPLETER - Valeur de l'intensité de pesanteur en N/kg  (A COMPLETER)   Ligne 16\n",
    "Fx = 0              # A COMPLETER - Valeur de la coordonnée suivant x du\n",
    "                    # vecteur force résultante en N (A COMPLETER)   Ligne 17\n",
    "Fy = -m*g           # A COMPLETER - Valeur de la coordonnée suivant y du \n",
    "                    # vecteur force résultante en N (A COMPLETER)   Ligne 18\n",
    "    \n",
    "#===================SECTION 4 : AFFICHAGE DES POSITIONS ET DES VITESSES  =========================\n",
    "print(\"x = \", x)    # NE PAS MODIFIER- Affichage des absisses du ballon     Ligne 19\n",
    "print(\"y = \", y)    # NE PAS MODIFIER- Affichage des ordonnées du ballon    Ligne 20\n",
    "print(\"vx = \", vx)  # NE PAS MODIFIER- Affichage des coordonnées suivant x du vecteur vitesse Ligne 21\n",
    "print(\"vy = \", vy)  # NE PAS MODIFIER- Affichage des coordonnées suivant y du vecteur vitesse Ligne 22"
   ]
  },
  {
   "cell_type": "markdown",
   "id": "44557e4b",
   "metadata": {},
   "source": [
    "<b>Travail 2 :</b> Une fois que tu as complété le code ci-dessus, exécute le.  Pour cela, il faut cliquer quelque part dans la fenêtre du code puis cliquer sur la flèche en haut de la page: \n",
    "<img src=\"https://raw.githubusercontent.com/pierreghesqui/TP-basketBasthon/main/img/fleche.png\" \n",
    "     width=\"300\"\n",
    "     height=\"300\"\n",
    "     style=\"float:left;margin:10px\">"
   ]
  },
  {
   "cell_type": "markdown",
   "id": "1e701639",
   "metadata": {},
   "source": [
    "Pour chacune des listes x, y, vx et vy, seule l'élément correspondant à l'instant initial est correct. Le reste est composé de 0 que nous allons modifier dans la partie suivane en utilisant la seconde loi de Newton."
   ]
  },
  {
   "cell_type": "markdown",
   "id": "586a69c1",
   "metadata": {},
   "source": [
    "<h2> PARTIE 2 : Prévision des positions suivantes grâce à la seconde loi de Newton </h2>"
   ]
  },
  {
   "cell_type": "markdown",
   "id": "5b26bf35",
   "metadata": {},
   "source": [
    "<b> Travail 3 :</b> Compléte le code ci-dessous pour prévoir la position suivante.\n",
    "<b> Indices </b> : Des indices sont disponibles sur le polycopié"
   ]
  },
  {
   "cell_type": "code",
   "execution_count": 2,
   "id": "33c97e68",
   "metadata": {
    "scrolled": true
   },
   "outputs": [
    {
     "name": "stdout",
     "output_type": "stream",
     "text": [
      "x =  [8.         7.82677992 7.65355983 7.48033975 7.30711966 7.13389958\n",
      " 6.9606795  6.78745941 6.61423933 6.44101925 6.26779916 6.09457908\n",
      " 5.92135899 5.74813891 5.57491883 5.40169874 5.22847866 5.05525858\n",
      " 4.88203849 4.70881841 4.53559832 4.36237824 4.18915816 4.01593807\n",
      " 3.84271799 3.66949791 3.49627782 3.32305774 3.14983765 2.97661757\n",
      " 2.80339749 2.6301774  2.45695732 2.28373724 2.11051715 1.93729707\n",
      " 1.76407698 1.5908569 ]\n",
      "y =  [4.         4.23168792 4.44767983 4.64797575 4.83257567 5.00147959\n",
      " 5.1546875  5.29219942 5.41401534 5.52013526 5.61055917 5.68528709\n",
      " 5.74431901 5.78765493 5.81529484 5.82723876 5.82348668 5.8040386\n",
      " 5.76889451 5.71805443 5.65151835 5.56928626 5.47135818 5.3577341\n",
      " 5.22841402 5.08339793 4.92268585 4.74627777 4.55417369 4.3463736\n",
      " 4.12287752 3.88368544 3.62879736 3.35821327 3.07193319 2.76995711\n",
      " 2.45228503 2.11891694]\n",
      "vx =  [-4.33050209 -4.33050209 -4.33050209 -4.33050209 -4.33050209 -4.33050209\n",
      " -4.33050209 -4.33050209 -4.33050209 -4.33050209 -4.33050209 -4.33050209\n",
      " -4.33050209 -4.33050209 -4.33050209 -4.33050209 -4.33050209 -4.33050209\n",
      " -4.33050209 -4.33050209 -4.33050209 -4.33050209 -4.33050209 -4.33050209\n",
      " -4.33050209 -4.33050209 -4.33050209 -4.33050209 -4.33050209 -4.33050209\n",
      " -4.33050209 -4.33050209 -4.33050209 -4.33050209 -4.33050209 -4.33050209\n",
      " -4.33050209 -4.33050209]\n",
      "vy =  [ 6.18459793  5.79219793  5.39979793  5.00739793  4.61499793  4.22259793\n",
      "  3.83019793  3.43779793  3.04539793  2.65299793  2.26059793  1.86819793\n",
      "  1.47579793  1.08339793  0.69099793  0.29859793 -0.09380207 -0.48620207\n",
      " -0.87860207 -1.27100207 -1.66340207 -2.05580207 -2.44820207 -2.84060207\n",
      " -3.23300207 -3.62540207 -4.01780207 -4.41020207 -4.80260207 -5.19500207\n",
      " -5.58740207 -5.97980207 -6.37220207 -6.76460207 -7.15700207 -7.54940207\n",
      " -7.94180207 -8.33420207]\n"
     ]
    }
   ],
   "source": [
    "#===================== CALCUL DES POSITIONS ET VITESSES SUIVANTES GRACE A LA SECONDE LOI DE NEWTON\n",
    "modelisation = Modelisation() # NE PAS MODIFIER- Ligne 23\n",
    "deltat = 40e-3  # NE PAS MODIFIER- Durée (en seconde) entre 2 images successives Ligne 24\n",
    "\n",
    "for i in range(37): # NE PAS MODIFIER - On répète pour les 37 images de la vidéos       Ligne 25\n",
    "    \n",
    "    vx[i+1] = vx[i] + deltat/m * Fx # A COMPLETER - Calcul de vx[i+1] grâce à la seconde loi de Newton   Ligne 26\n",
    "    vy[i+1] = vy[i] + deltat/m * Fy # A COMPLETER - Calcul de vy[i+1] grâce à la seconde loi de Newton   Ligne 27\n",
    "    \n",
    "    x[i+1] = x[i] + deltat * vx[i+1]   # A COMPLETER - Calcul de x[i+1] grâce à la seconde loi de Newton   Ligne 28                                          \n",
    "    y[i+1] = y[i] + deltat * vy[i+1]   # A COMPLETER - Calcul de y[i+1] grâce à la seconde loi de Newton   Ligne 29\n",
    "\n",
    "#=================== AFFICHAGE DES POSITIONS ET DES VITESSES  =========================    \n",
    "print(\"x = \", x)   # NE PAS MODIFIER- Affichage de l'absisse du ballon     Ligne 30\n",
    "print(\"y = \", y)   # NE PAS MODIFIER- Affichage de l'ordonée du ballon     Ligne 31\n",
    "print(\"vx = \", vx) # NE PAS MODIFIER- Affichage de l'absisse du ballon     Ligne 32\n",
    "print(\"vy = \", vy) # NE PAS MODIFIER- Affichage de l'absisse du ballon     Ligne 33"
   ]
  },
  {
   "cell_type": "markdown",
   "id": "e09645b4",
   "metadata": {},
   "source": [
    "**Travail 4 :** Exécute le code ci-dessous"
   ]
  },
  {
   "cell_type": "code",
   "execution_count": null,
   "id": "bd5e1f38",
   "metadata": {},
   "outputs": [],
   "source": [
    "#===================== COMPARAISON ENTRE LE MODELE THEORIQUE ET L'EXPERIENCE ==============\n",
    "anim = modelisation.montreAnimation(x,y,vx,vy,Fx,Fy) # NE PAS MODIFIER-   Ligne 34\n",
    "plt.show()                                           # NE PAS MODIFIER-   Ligne 35"
   ]
  },
  {
   "cell_type": "markdown",
   "id": "6b43bd3d",
   "metadata": {},
   "source": [
    "**Travail 5 :** Le modèle théorique est-il toujours fidèle à l'expérience ? "
   ]
  },
  {
   "cell_type": "markdown",
   "id": "aa3e6172",
   "metadata": {},
   "source": [
    "<h2>PARTIE 3 : Prise en compte du frottement de l'air sur le ballon</h2>\n",
    "<img src=\"https://raw.githubusercontent.com/pierreghesqui/TP-basketBasthon/main/img/magnus.png\" \n",
    "     width=\"300\"\n",
    "     height=\"300\"\n",
    "     style=\"float:left;margin:10px\">\n",
    "<br>\n",
    "<br>\n",
    "On remarque que la prévision théorique est un peu éloignée de l'expérience. En effet, nous n'avons pas pris en compte les forces de frottement de l'air sur le ballon. <br> Le robot Cue3 donne un petit effet sur le ballon pour le faire entrer en rotation dans l'air(voir schéma à gauche). Cet effet a pour conséquence, de créer <u>une force supplémentaire vers le bas.</u> C'est ce qu'on appelle <b>l'effet Magnus</b>. <u>Cette nouvelle force a pour valeur 1/10e de la valeur du poids du ballon</u>. \n"
   ]
  },
  {
   "cell_type": "markdown",
   "id": "15db33bb",
   "metadata": {},
   "source": [
    "<b>Travail 6 :</b> Complète le code ci dessous en modifiant la valeur du vecteur $\\vec{F}$ pour prendre en compte les forces de frottement de l'air."
   ]
  },
  {
   "cell_type": "code",
   "execution_count": null,
   "id": "7e0d0046",
   "metadata": {},
   "outputs": [],
   "source": [
    "modelisation = Modelisation()  # NE PAS MODIFIER-   Ligne 36\n",
    "\n",
    "Fx = 0 # NE PAS MODIFIER- Valeur de la coordonée suivant x du vecteur Force\n",
    "       # en prenant en compte les frottements de l'air Ligne 37\n",
    "Fy = -m*g*-m*g/10 # A COMPLETER- Valeur de la coordonée suivant y du vecteur Force\n",
    "                  # en prenant en compte les frottements de l'air Ligne 38\n",
    "\n",
    "for i in range(37): # NE PAS MODIFIER- On répète pour les 38 images de la vidéos\n",
    "    \n",
    "    vx[i+1] = vx[i] + deltat*Fx/m # A COMPLETER- Calcul de vx[i+1] grâce à la seconde loi de Newton   Ligne 39\n",
    "    vy[i+1] = vy[i] + deltat*Fy/m # A COMPLETER- Calcul de vy[i+1] grâce à la seconde loi de Newton   Ligne 40\n",
    "    \n",
    "    x[i+1] = x[i] + deltat * vx[i+1] # A COMPLETER- Calcul de x[i+1] grâce à la seconde loi de Newton   Ligne 41                                         \n",
    "    y[i+1] = y[i] + deltat * vy[i+1]*deltat # A COMPLETER- Calcul de y[i+1] grâce à la seconde loi de Newton   Ligne 42 \n",
    "    \n",
    "anim = modelisation.montreAnimation(x,y,vx,vy,Fx,Fy) # NE PAS MODIFIER- construit l'animation Ligne 43\n",
    "plt.show() # NE PAS MODIFIER- affiche l'animation Ligne 44   "
   ]
  },
  {
   "cell_type": "markdown",
   "id": "9cc85238",
   "metadata": {},
   "source": [
    "**Travail 7 :** Ce modèle prenant en compte les frottements de l'air est il plus fidèle à l'expérience ? "
   ]
  }
 ],
 "metadata": {
  "celltoolbar": "Format de la Cellule Texte Brut",
  "kernelspec": {
   "display_name": "Python 3 (ipykernel)",
   "language": "python",
   "name": "python3"
  },
  "language_info": {
   "codemirror_mode": {
    "name": "ipython",
    "version": 3
   },
   "file_extension": ".py",
   "mimetype": "text/x-python",
   "name": "python",
   "nbconvert_exporter": "python",
   "pygments_lexer": "ipython3",
   "version": "3.9.12"
  }
 },
 "nbformat": 4,
 "nbformat_minor": 5
}
